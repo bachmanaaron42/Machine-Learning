{
 "cells": [
  {
   "cell_type": "markdown",
   "metadata": {
    "collapsed": true
   },
   "source": [
    "# Predicting Car Prices Using K-Nearest Neighbors\n",
    "\n",
    "This project will analyze a data set of cars, and use features from each record to make a prediction about what the car's price should be, based on the K-Nearest Neighbors machine learning algorithm."
   ]
  },
  {
   "cell_type": "code",
   "execution_count": 3,
   "metadata": {
    "collapsed": false
   },
   "outputs": [],
   "source": [
    "import pandas as pd\n",
    "\n",
    "columns = ['symboling', 'normalized_losses', 'make', 'fuel_type', 'aspiration', 'num_doors', 'body_style', 'drive_wheels', 'engine_location', 'wheel_base', 'length', 'width', 'height', 'curb_weight', 'engine_type', 'num_cylinders', 'engine_size', 'fuel_system', 'bore', 'stroke', 'compression_ratio', 'horsepower', 'peak_rpm', 'city_mpg', 'highway_mpg', 'price']\n",
    "\n",
    "# import csv file into dataframe\n",
    "cars = pd.read_csv('imports-85.data', header=None)"
   ]
  },
  {
   "cell_type": "code",
   "execution_count": 4,
   "metadata": {
    "collapsed": false
   },
   "outputs": [
    {
     "data": {
      "text/html": [
       "<div>\n",
       "<style scoped>\n",
       "    .dataframe tbody tr th:only-of-type {\n",
       "        vertical-align: middle;\n",
       "    }\n",
       "\n",
       "    .dataframe tbody tr th {\n",
       "        vertical-align: top;\n",
       "    }\n",
       "\n",
       "    .dataframe thead th {\n",
       "        text-align: right;\n",
       "    }\n",
       "</style>\n",
       "<table border=\"1\" class=\"dataframe\">\n",
       "  <thead>\n",
       "    <tr style=\"text-align: right;\">\n",
       "      <th></th>\n",
       "      <th>symboling</th>\n",
       "      <th>normalized_losses</th>\n",
       "      <th>make</th>\n",
       "      <th>fuel_type</th>\n",
       "      <th>aspiration</th>\n",
       "      <th>num_doors</th>\n",
       "      <th>body_style</th>\n",
       "      <th>drive_wheels</th>\n",
       "      <th>engine_location</th>\n",
       "      <th>wheel_base</th>\n",
       "      <th>...</th>\n",
       "      <th>engine_size</th>\n",
       "      <th>fuel_system</th>\n",
       "      <th>bore</th>\n",
       "      <th>stroke</th>\n",
       "      <th>compression_ratio</th>\n",
       "      <th>horsepower</th>\n",
       "      <th>peak_rpm</th>\n",
       "      <th>city_mpg</th>\n",
       "      <th>highway_mpg</th>\n",
       "      <th>price</th>\n",
       "    </tr>\n",
       "  </thead>\n",
       "  <tbody>\n",
       "    <tr>\n",
       "      <th>0</th>\n",
       "      <td>3</td>\n",
       "      <td>?</td>\n",
       "      <td>alfa-romero</td>\n",
       "      <td>gas</td>\n",
       "      <td>std</td>\n",
       "      <td>two</td>\n",
       "      <td>convertible</td>\n",
       "      <td>rwd</td>\n",
       "      <td>front</td>\n",
       "      <td>88.6</td>\n",
       "      <td>...</td>\n",
       "      <td>130</td>\n",
       "      <td>mpfi</td>\n",
       "      <td>3.47</td>\n",
       "      <td>2.68</td>\n",
       "      <td>9.0</td>\n",
       "      <td>111</td>\n",
       "      <td>5000</td>\n",
       "      <td>21</td>\n",
       "      <td>27</td>\n",
       "      <td>13495</td>\n",
       "    </tr>\n",
       "    <tr>\n",
       "      <th>1</th>\n",
       "      <td>3</td>\n",
       "      <td>?</td>\n",
       "      <td>alfa-romero</td>\n",
       "      <td>gas</td>\n",
       "      <td>std</td>\n",
       "      <td>two</td>\n",
       "      <td>convertible</td>\n",
       "      <td>rwd</td>\n",
       "      <td>front</td>\n",
       "      <td>88.6</td>\n",
       "      <td>...</td>\n",
       "      <td>130</td>\n",
       "      <td>mpfi</td>\n",
       "      <td>3.47</td>\n",
       "      <td>2.68</td>\n",
       "      <td>9.0</td>\n",
       "      <td>111</td>\n",
       "      <td>5000</td>\n",
       "      <td>21</td>\n",
       "      <td>27</td>\n",
       "      <td>16500</td>\n",
       "    </tr>\n",
       "    <tr>\n",
       "      <th>2</th>\n",
       "      <td>1</td>\n",
       "      <td>?</td>\n",
       "      <td>alfa-romero</td>\n",
       "      <td>gas</td>\n",
       "      <td>std</td>\n",
       "      <td>two</td>\n",
       "      <td>hatchback</td>\n",
       "      <td>rwd</td>\n",
       "      <td>front</td>\n",
       "      <td>94.5</td>\n",
       "      <td>...</td>\n",
       "      <td>152</td>\n",
       "      <td>mpfi</td>\n",
       "      <td>2.68</td>\n",
       "      <td>3.47</td>\n",
       "      <td>9.0</td>\n",
       "      <td>154</td>\n",
       "      <td>5000</td>\n",
       "      <td>19</td>\n",
       "      <td>26</td>\n",
       "      <td>16500</td>\n",
       "    </tr>\n",
       "    <tr>\n",
       "      <th>3</th>\n",
       "      <td>2</td>\n",
       "      <td>164</td>\n",
       "      <td>audi</td>\n",
       "      <td>gas</td>\n",
       "      <td>std</td>\n",
       "      <td>four</td>\n",
       "      <td>sedan</td>\n",
       "      <td>fwd</td>\n",
       "      <td>front</td>\n",
       "      <td>99.8</td>\n",
       "      <td>...</td>\n",
       "      <td>109</td>\n",
       "      <td>mpfi</td>\n",
       "      <td>3.19</td>\n",
       "      <td>3.40</td>\n",
       "      <td>10.0</td>\n",
       "      <td>102</td>\n",
       "      <td>5500</td>\n",
       "      <td>24</td>\n",
       "      <td>30</td>\n",
       "      <td>13950</td>\n",
       "    </tr>\n",
       "    <tr>\n",
       "      <th>4</th>\n",
       "      <td>2</td>\n",
       "      <td>164</td>\n",
       "      <td>audi</td>\n",
       "      <td>gas</td>\n",
       "      <td>std</td>\n",
       "      <td>four</td>\n",
       "      <td>sedan</td>\n",
       "      <td>4wd</td>\n",
       "      <td>front</td>\n",
       "      <td>99.4</td>\n",
       "      <td>...</td>\n",
       "      <td>136</td>\n",
       "      <td>mpfi</td>\n",
       "      <td>3.19</td>\n",
       "      <td>3.40</td>\n",
       "      <td>8.0</td>\n",
       "      <td>115</td>\n",
       "      <td>5500</td>\n",
       "      <td>18</td>\n",
       "      <td>22</td>\n",
       "      <td>17450</td>\n",
       "    </tr>\n",
       "  </tbody>\n",
       "</table>\n",
       "<p>5 rows × 26 columns</p>\n",
       "</div>"
      ],
      "text/plain": [
       "   symboling normalized_losses         make fuel_type aspiration num_doors  \\\n",
       "0          3                 ?  alfa-romero       gas        std       two   \n",
       "1          3                 ?  alfa-romero       gas        std       two   \n",
       "2          1                 ?  alfa-romero       gas        std       two   \n",
       "3          2               164         audi       gas        std      four   \n",
       "4          2               164         audi       gas        std      four   \n",
       "\n",
       "    body_style drive_wheels engine_location  wheel_base  ...    engine_size  \\\n",
       "0  convertible          rwd           front        88.6  ...            130   \n",
       "1  convertible          rwd           front        88.6  ...            130   \n",
       "2    hatchback          rwd           front        94.5  ...            152   \n",
       "3        sedan          fwd           front        99.8  ...            109   \n",
       "4        sedan          4wd           front        99.4  ...            136   \n",
       "\n",
       "   fuel_system  bore  stroke compression_ratio horsepower  peak_rpm city_mpg  \\\n",
       "0         mpfi  3.47    2.68               9.0        111      5000       21   \n",
       "1         mpfi  3.47    2.68               9.0        111      5000       21   \n",
       "2         mpfi  2.68    3.47               9.0        154      5000       19   \n",
       "3         mpfi  3.19    3.40              10.0        102      5500       24   \n",
       "4         mpfi  3.19    3.40               8.0        115      5500       18   \n",
       "\n",
       "  highway_mpg  price  \n",
       "0          27  13495  \n",
       "1          27  16500  \n",
       "2          26  16500  \n",
       "3          30  13950  \n",
       "4          22  17450  \n",
       "\n",
       "[5 rows x 26 columns]"
      ]
     },
     "execution_count": 4,
     "metadata": {},
     "output_type": "execute_result"
    }
   ],
   "source": [
    "# set column names in datafram\n",
    "\n",
    "cars.columns = columns\n",
    "\n",
    "# verify column names\n",
    "cars.head()"
   ]
  },
  {
   "cell_type": "code",
   "execution_count": 5,
   "metadata": {
    "collapsed": false
   },
   "outputs": [],
   "source": [
    "import numpy as np\n",
    "\n",
    "# replace ? characters with NaN in the whole dataframe\n",
    "cars = cars.replace('?', np.nan)"
   ]
  },
  {
   "cell_type": "code",
   "execution_count": 6,
   "metadata": {
    "collapsed": false
   },
   "outputs": [
    {
     "data": {
      "text/plain": [
       "four    114\n",
       "two      89\n",
       "NaN       2\n",
       "Name: num_doors, dtype: int64"
      ]
     },
     "execution_count": 6,
     "metadata": {},
     "output_type": "execute_result"
    }
   ],
   "source": [
    "# determine which string columns to convert to numeric\n",
    "cars['num_doors'].value_counts(dropna=False)"
   ]
  },
  {
   "cell_type": "code",
   "execution_count": 7,
   "metadata": {
    "collapsed": false
   },
   "outputs": [
    {
     "data": {
      "text/plain": [
       "four      159\n",
       "six        24\n",
       "five       11\n",
       "eight       5\n",
       "two         4\n",
       "three       1\n",
       "twelve      1\n",
       "Name: num_cylinders, dtype: int64"
      ]
     },
     "execution_count": 7,
     "metadata": {},
     "output_type": "execute_result"
    }
   ],
   "source": [
    "cars['num_cylinders'].value_counts(dropna=False)"
   ]
  },
  {
   "cell_type": "code",
   "execution_count": 8,
   "metadata": {
    "collapsed": true
   },
   "outputs": [],
   "source": [
    "# drop 2 rows that have NaN for num_doors\n",
    "cars = cars.dropna(subset=['num_doors'])"
   ]
  },
  {
   "cell_type": "code",
   "execution_count": 9,
   "metadata": {
    "collapsed": false
   },
   "outputs": [
    {
     "data": {
      "text/plain": [
       "four    114\n",
       "two      89\n",
       "Name: num_doors, dtype: int64"
      ]
     },
     "execution_count": 9,
     "metadata": {},
     "output_type": "execute_result"
    }
   ],
   "source": [
    "# verify new values for num_doors\n",
    "cars['num_doors'].value_counts(dropna=False)"
   ]
  },
  {
   "cell_type": "code",
   "execution_count": 10,
   "metadata": {
    "collapsed": false
   },
   "outputs": [
    {
     "data": {
      "text/plain": [
       "4    114\n",
       "2     89\n",
       "Name: num_doors, dtype: int64"
      ]
     },
     "execution_count": 10,
     "metadata": {},
     "output_type": "execute_result"
    }
   ],
   "source": [
    "# conert num_doors and num_cylinders to int data types - imputes missing values to 4 doors\n",
    "new_doors = []\n",
    "\n",
    "for doors in cars['num_doors']:\n",
    "    if doors == 'four':\n",
    "        new_doors.append(4)\n",
    "    elif doors == 'two':\n",
    "        new_doors.append(2)\n",
    "\n",
    "# assign transformed values back to dataframe\n",
    "cars['num_doors'] = new_doors\n",
    "\n",
    "new_cylinders = []\n",
    "\n",
    "for cyl in cars['num_cylinders']:\n",
    "    if cyl == 'four':\n",
    "        new_cylinders.append(4)\n",
    "    if cyl == 'six':\n",
    "        new_cylinders.append(6)\n",
    "    if cyl == 'five':\n",
    "        new_cylinders.append(5)\n",
    "    if cyl == 'eight':\n",
    "        new_cylinders.append(8)\n",
    "    if cyl == 'two':\n",
    "        new_cylinders.append(2)\n",
    "    if cyl == 'twelve':\n",
    "        new_cylinders.append(12)\n",
    "    if cyl == 'three':\n",
    "        new_cylinders.append(3)\n",
    "\n",
    "# assign back to dataframe\n",
    "cars['num_cylinders'] = new_cylinders\n",
    "\n",
    "# verify the new colum values\n",
    "cars['num_doors'].value_counts()"
   ]
  },
  {
   "cell_type": "code",
   "execution_count": 11,
   "metadata": {
    "collapsed": false
   },
   "outputs": [
    {
     "data": {
      "text/plain": [
       "4     157\n",
       "6      24\n",
       "5      11\n",
       "8       5\n",
       "2       4\n",
       "12      1\n",
       "3       1\n",
       "Name: num_cylinders, dtype: int64"
      ]
     },
     "execution_count": 11,
     "metadata": {},
     "output_type": "execute_result"
    }
   ],
   "source": [
    "# verify column values for num_cylinders\n",
    "cars['num_cylinders'].value_counts()"
   ]
  },
  {
   "cell_type": "code",
   "execution_count": 12,
   "metadata": {
    "collapsed": false
   },
   "outputs": [
    {
     "name": "stdout",
     "output_type": "stream",
     "text": [
      "<class 'pandas.core.frame.DataFrame'>\n",
      "Int64Index: 203 entries, 0 to 204\n",
      "Data columns (total 26 columns):\n",
      "symboling            203 non-null int64\n",
      "normalized_losses    163 non-null object\n",
      "make                 203 non-null object\n",
      "fuel_type            203 non-null object\n",
      "aspiration           203 non-null object\n",
      "num_doors            203 non-null int64\n",
      "body_style           203 non-null object\n",
      "drive_wheels         203 non-null object\n",
      "engine_location      203 non-null object\n",
      "wheel_base           203 non-null float64\n",
      "length               203 non-null float64\n",
      "width                203 non-null float64\n",
      "height               203 non-null float64\n",
      "curb_weight          203 non-null int64\n",
      "engine_type          203 non-null object\n",
      "num_cylinders        203 non-null int64\n",
      "engine_size          203 non-null int64\n",
      "fuel_system          203 non-null object\n",
      "bore                 199 non-null object\n",
      "stroke               199 non-null object\n",
      "compression_ratio    203 non-null float64\n",
      "horsepower           201 non-null object\n",
      "peak_rpm             201 non-null object\n",
      "city_mpg             203 non-null int64\n",
      "highway_mpg          203 non-null int64\n",
      "price                199 non-null object\n",
      "dtypes: float64(5), int64(7), object(14)\n",
      "memory usage: 42.8+ KB\n"
     ]
    }
   ],
   "source": [
    "# determine if other data type conversions are required\n",
    "cars.info()"
   ]
  },
  {
   "cell_type": "code",
   "execution_count": 13,
   "metadata": {
    "collapsed": false
   },
   "outputs": [],
   "source": [
    "# convert horsepower to float\n",
    "cars['horsepower'] = cars['horsepower'].astype(float)"
   ]
  },
  {
   "cell_type": "code",
   "execution_count": 14,
   "metadata": {
    "collapsed": true
   },
   "outputs": [],
   "source": [
    "# convert peak_rpm to float\n",
    "cars['peak_rpm'] = cars['peak_rpm'].astype(float)"
   ]
  },
  {
   "cell_type": "code",
   "execution_count": 15,
   "metadata": {
    "collapsed": false
   },
   "outputs": [
    {
     "name": "stdout",
     "output_type": "stream",
     "text": [
      "<class 'pandas.core.frame.DataFrame'>\n",
      "Int64Index: 203 entries, 0 to 204\n",
      "Data columns (total 26 columns):\n",
      "symboling            203 non-null int64\n",
      "normalized_losses    163 non-null object\n",
      "make                 203 non-null object\n",
      "fuel_type            203 non-null object\n",
      "aspiration           203 non-null object\n",
      "num_doors            203 non-null int64\n",
      "body_style           203 non-null object\n",
      "drive_wheels         203 non-null object\n",
      "engine_location      203 non-null object\n",
      "wheel_base           203 non-null float64\n",
      "length               203 non-null float64\n",
      "width                203 non-null float64\n",
      "height               203 non-null float64\n",
      "curb_weight          203 non-null int64\n",
      "engine_type          203 non-null object\n",
      "num_cylinders        203 non-null int64\n",
      "engine_size          203 non-null int64\n",
      "fuel_system          203 non-null object\n",
      "bore                 199 non-null object\n",
      "stroke               199 non-null object\n",
      "compression_ratio    203 non-null float64\n",
      "horsepower           201 non-null float64\n",
      "peak_rpm             201 non-null float64\n",
      "city_mpg             203 non-null int64\n",
      "highway_mpg          203 non-null int64\n",
      "price                199 non-null object\n",
      "dtypes: float64(7), int64(7), object(12)\n",
      "memory usage: 42.8+ KB\n"
     ]
    }
   ],
   "source": [
    "# verify the changes\n",
    "cars.info()"
   ]
  },
  {
   "cell_type": "code",
   "execution_count": 16,
   "metadata": {
    "collapsed": false
   },
   "outputs": [
    {
     "data": {
      "text/plain": [
       "40"
      ]
     },
     "execution_count": 16,
     "metadata": {},
     "output_type": "execute_result"
    }
   ],
   "source": [
    "# view number of missing rows for normalized_losses - index 0 was NaN for this column\n",
    "cars['normalized_losses'].value_counts(dropna=False)[0]"
   ]
  },
  {
   "cell_type": "code",
   "execution_count": 17,
   "metadata": {
    "collapsed": false
   },
   "outputs": [],
   "source": [
    "# drop normalized_losses column due to many missing values\n",
    "cars = cars.drop(columns=['normalized_losses'])"
   ]
  },
  {
   "cell_type": "code",
   "execution_count": 18,
   "metadata": {
    "collapsed": false
   },
   "outputs": [
    {
     "data": {
      "text/plain": [
       "Index(['symboling', 'make', 'fuel_type', 'aspiration', 'num_doors',\n",
       "       'body_style', 'drive_wheels', 'engine_location', 'wheel_base', 'length',\n",
       "       'width', 'height', 'curb_weight', 'engine_type', 'num_cylinders',\n",
       "       'engine_size', 'fuel_system', 'bore', 'stroke', 'compression_ratio',\n",
       "       'horsepower', 'peak_rpm', 'city_mpg', 'highway_mpg', 'price'],\n",
       "      dtype='object')"
      ]
     },
     "execution_count": 18,
     "metadata": {},
     "output_type": "execute_result"
    }
   ],
   "source": [
    "# verify the column has been dropped\n",
    "cars.columns"
   ]
  },
  {
   "cell_type": "code",
   "execution_count": 19,
   "metadata": {
    "collapsed": false
   },
   "outputs": [
    {
     "data": {
      "text/plain": [
       "4"
      ]
     },
     "execution_count": 19,
     "metadata": {},
     "output_type": "execute_result"
    }
   ],
   "source": [
    "# verify NaN values for price (it was index 0 in full results)\n",
    "cars['price'].value_counts(dropna=False)[0]"
   ]
  },
  {
   "cell_type": "code",
   "execution_count": 20,
   "metadata": {
    "collapsed": true
   },
   "outputs": [],
   "source": [
    "# drop rows where price is NaN\n",
    "cars = cars.dropna(subset=['price'])"
   ]
  },
  {
   "cell_type": "code",
   "execution_count": 21,
   "metadata": {
    "collapsed": false
   },
   "outputs": [
    {
     "data": {
      "text/plain": [
       "7775     2\n",
       "8845     2\n",
       "6229     2\n",
       "7295     2\n",
       "18150    2\n",
       "8495     2\n",
       "7898     2\n",
       "6692     2\n",
       "16500    2\n",
       "13499    2\n",
       "5572     2\n",
       "9279     2\n",
       "7957     2\n",
       "8921     2\n",
       "7609     2\n",
       "22470    1\n",
       "9233     1\n",
       "12629    1\n",
       "14869    1\n",
       "18620    1\n",
       "10198    1\n",
       "16430    1\n",
       "9988     1\n",
       "16558    1\n",
       "6918     1\n",
       "7349     1\n",
       "12764    1\n",
       "9639     1\n",
       "5118     1\n",
       "7995     1\n",
       "        ..\n",
       "8013     1\n",
       "15510    1\n",
       "6295     1\n",
       "7126     1\n",
       "25552    1\n",
       "5195     1\n",
       "37028    1\n",
       "11245    1\n",
       "9989     1\n",
       "9549     1\n",
       "11048    1\n",
       "23875    1\n",
       "6849     1\n",
       "18399    1\n",
       "10945    1\n",
       "7999     1\n",
       "7788     1\n",
       "12170    1\n",
       "12440    1\n",
       "5499     1\n",
       "18280    1\n",
       "15580    1\n",
       "16900    1\n",
       "36000    1\n",
       "6669     1\n",
       "30760    1\n",
       "20970    1\n",
       "15040    1\n",
       "13200    1\n",
       "11850    1\n",
       "Name: price, Length: 184, dtype: int64"
      ]
     },
     "execution_count": 21,
     "metadata": {},
     "output_type": "execute_result"
    }
   ],
   "source": [
    "# verify the new values\n",
    "cars['price'].value_counts(dropna=False)"
   ]
  },
  {
   "cell_type": "code",
   "execution_count": 22,
   "metadata": {
    "collapsed": true
   },
   "outputs": [],
   "source": [
    "# convert price column to numeric\n",
    "cars['price'] = cars['price'].astype(float)"
   ]
  },
  {
   "cell_type": "code",
   "execution_count": 23,
   "metadata": {
    "collapsed": false
   },
   "outputs": [
    {
     "name": "stdout",
     "output_type": "stream",
     "text": [
      "<class 'pandas.core.frame.DataFrame'>\n",
      "Int64Index: 199 entries, 0 to 204\n",
      "Data columns (total 15 columns):\n",
      "symboling            199 non-null int64\n",
      "num_doors            199 non-null int64\n",
      "wheel_base           199 non-null float64\n",
      "length               199 non-null float64\n",
      "width                199 non-null float64\n",
      "height               199 non-null float64\n",
      "curb_weight          199 non-null int64\n",
      "num_cylinders        199 non-null int64\n",
      "engine_size          199 non-null int64\n",
      "compression_ratio    199 non-null float64\n",
      "horsepower           197 non-null float64\n",
      "peak_rpm             197 non-null float64\n",
      "city_mpg             199 non-null int64\n",
      "highway_mpg          199 non-null int64\n",
      "price                199 non-null float64\n",
      "dtypes: float64(8), int64(7)\n",
      "memory usage: 24.9 KB\n"
     ]
    }
   ],
   "source": [
    "# include only numeric columns for KNN algorithm\n",
    "cars = cars.select_dtypes(exclude=['object'])\n",
    "\n",
    "# verify new columns\n",
    "cars.info()"
   ]
  },
  {
   "cell_type": "code",
   "execution_count": 24,
   "metadata": {
    "collapsed": false
   },
   "outputs": [
    {
     "data": {
      "text/plain": [
       "symboling            0\n",
       "num_doors            0\n",
       "wheel_base           0\n",
       "length               0\n",
       "width                0\n",
       "height               0\n",
       "curb_weight          0\n",
       "num_cylinders        0\n",
       "engine_size          0\n",
       "compression_ratio    0\n",
       "horsepower           0\n",
       "peak_rpm             0\n",
       "city_mpg             0\n",
       "highway_mpg          0\n",
       "price                0\n",
       "dtype: int64"
      ]
     },
     "execution_count": 24,
     "metadata": {},
     "output_type": "execute_result"
    }
   ],
   "source": [
    "# impute mean values for horsepower and peak_rpm null values\n",
    "cars = cars.fillna(cars.mean())\n",
    "\n",
    "# verify null values\n",
    "cars.isnull().sum()"
   ]
  },
  {
   "cell_type": "code",
   "execution_count": 25,
   "metadata": {
    "collapsed": false
   },
   "outputs": [],
   "source": [
    "# normalize numeric values in dataframe to prepare for KNN algorithm\n",
    "price = cars['price']\n",
    "cars = (cars - cars.min()) / (cars.max() - cars.min())\n",
    "cars['price'] = price"
   ]
  },
  {
   "cell_type": "code",
   "execution_count": 26,
   "metadata": {
    "collapsed": false
   },
   "outputs": [
    {
     "data": {
      "text/html": [
       "<div>\n",
       "<style scoped>\n",
       "    .dataframe tbody tr th:only-of-type {\n",
       "        vertical-align: middle;\n",
       "    }\n",
       "\n",
       "    .dataframe tbody tr th {\n",
       "        vertical-align: top;\n",
       "    }\n",
       "\n",
       "    .dataframe thead th {\n",
       "        text-align: right;\n",
       "    }\n",
       "</style>\n",
       "<table border=\"1\" class=\"dataframe\">\n",
       "  <thead>\n",
       "    <tr style=\"text-align: right;\">\n",
       "      <th></th>\n",
       "      <th>symboling</th>\n",
       "      <th>num_doors</th>\n",
       "      <th>wheel_base</th>\n",
       "      <th>length</th>\n",
       "      <th>width</th>\n",
       "      <th>height</th>\n",
       "      <th>curb_weight</th>\n",
       "      <th>num_cylinders</th>\n",
       "      <th>engine_size</th>\n",
       "      <th>compression_ratio</th>\n",
       "      <th>horsepower</th>\n",
       "      <th>peak_rpm</th>\n",
       "      <th>city_mpg</th>\n",
       "      <th>highway_mpg</th>\n",
       "      <th>price</th>\n",
       "    </tr>\n",
       "  </thead>\n",
       "  <tbody>\n",
       "    <tr>\n",
       "      <th>0</th>\n",
       "      <td>1.0</td>\n",
       "      <td>0.0</td>\n",
       "      <td>0.058309</td>\n",
       "      <td>0.413433</td>\n",
       "      <td>0.324786</td>\n",
       "      <td>0.083333</td>\n",
       "      <td>0.411171</td>\n",
       "      <td>0.2</td>\n",
       "      <td>0.260377</td>\n",
       "      <td>0.1250</td>\n",
       "      <td>0.294393</td>\n",
       "      <td>0.346939</td>\n",
       "      <td>0.222222</td>\n",
       "      <td>0.289474</td>\n",
       "      <td>13495.0</td>\n",
       "    </tr>\n",
       "    <tr>\n",
       "      <th>1</th>\n",
       "      <td>1.0</td>\n",
       "      <td>0.0</td>\n",
       "      <td>0.058309</td>\n",
       "      <td>0.413433</td>\n",
       "      <td>0.324786</td>\n",
       "      <td>0.083333</td>\n",
       "      <td>0.411171</td>\n",
       "      <td>0.2</td>\n",
       "      <td>0.260377</td>\n",
       "      <td>0.1250</td>\n",
       "      <td>0.294393</td>\n",
       "      <td>0.346939</td>\n",
       "      <td>0.222222</td>\n",
       "      <td>0.289474</td>\n",
       "      <td>16500.0</td>\n",
       "    </tr>\n",
       "    <tr>\n",
       "      <th>2</th>\n",
       "      <td>0.6</td>\n",
       "      <td>0.0</td>\n",
       "      <td>0.230321</td>\n",
       "      <td>0.449254</td>\n",
       "      <td>0.444444</td>\n",
       "      <td>0.383333</td>\n",
       "      <td>0.517843</td>\n",
       "      <td>0.4</td>\n",
       "      <td>0.343396</td>\n",
       "      <td>0.1250</td>\n",
       "      <td>0.495327</td>\n",
       "      <td>0.346939</td>\n",
       "      <td>0.166667</td>\n",
       "      <td>0.263158</td>\n",
       "      <td>16500.0</td>\n",
       "    </tr>\n",
       "    <tr>\n",
       "      <th>3</th>\n",
       "      <td>0.8</td>\n",
       "      <td>1.0</td>\n",
       "      <td>0.384840</td>\n",
       "      <td>0.529851</td>\n",
       "      <td>0.504274</td>\n",
       "      <td>0.541667</td>\n",
       "      <td>0.329325</td>\n",
       "      <td>0.2</td>\n",
       "      <td>0.181132</td>\n",
       "      <td>0.1875</td>\n",
       "      <td>0.252336</td>\n",
       "      <td>0.551020</td>\n",
       "      <td>0.305556</td>\n",
       "      <td>0.368421</td>\n",
       "      <td>13950.0</td>\n",
       "    </tr>\n",
       "    <tr>\n",
       "      <th>4</th>\n",
       "      <td>0.8</td>\n",
       "      <td>1.0</td>\n",
       "      <td>0.373178</td>\n",
       "      <td>0.529851</td>\n",
       "      <td>0.521368</td>\n",
       "      <td>0.541667</td>\n",
       "      <td>0.518231</td>\n",
       "      <td>0.3</td>\n",
       "      <td>0.283019</td>\n",
       "      <td>0.0625</td>\n",
       "      <td>0.313084</td>\n",
       "      <td>0.551020</td>\n",
       "      <td>0.138889</td>\n",
       "      <td>0.157895</td>\n",
       "      <td>17450.0</td>\n",
       "    </tr>\n",
       "  </tbody>\n",
       "</table>\n",
       "</div>"
      ],
      "text/plain": [
       "   symboling  num_doors  wheel_base    length     width    height  \\\n",
       "0        1.0        0.0    0.058309  0.413433  0.324786  0.083333   \n",
       "1        1.0        0.0    0.058309  0.413433  0.324786  0.083333   \n",
       "2        0.6        0.0    0.230321  0.449254  0.444444  0.383333   \n",
       "3        0.8        1.0    0.384840  0.529851  0.504274  0.541667   \n",
       "4        0.8        1.0    0.373178  0.529851  0.521368  0.541667   \n",
       "\n",
       "   curb_weight  num_cylinders  engine_size  compression_ratio  horsepower  \\\n",
       "0     0.411171            0.2     0.260377             0.1250    0.294393   \n",
       "1     0.411171            0.2     0.260377             0.1250    0.294393   \n",
       "2     0.517843            0.4     0.343396             0.1250    0.495327   \n",
       "3     0.329325            0.2     0.181132             0.1875    0.252336   \n",
       "4     0.518231            0.3     0.283019             0.0625    0.313084   \n",
       "\n",
       "   peak_rpm  city_mpg  highway_mpg    price  \n",
       "0  0.346939  0.222222     0.289474  13495.0  \n",
       "1  0.346939  0.222222     0.289474  16500.0  \n",
       "2  0.346939  0.166667     0.263158  16500.0  \n",
       "3  0.551020  0.305556     0.368421  13950.0  \n",
       "4  0.551020  0.138889     0.157895  17450.0  "
      ]
     },
     "execution_count": 26,
     "metadata": {},
     "output_type": "execute_result"
    }
   ],
   "source": [
    "# verify normalized values\n",
    "cars.head()"
   ]
  },
  {
   "cell_type": "code",
   "execution_count": 27,
   "metadata": {
    "collapsed": false
   },
   "outputs": [
    {
     "data": {
      "text/plain": [
       "(199, 15)"
      ]
     },
     "execution_count": 27,
     "metadata": {},
     "output_type": "execute_result"
    }
   ],
   "source": [
    "cars.shape"
   ]
  },
  {
   "cell_type": "markdown",
   "metadata": {},
   "source": [
    "## Univariate K-Nearest Neighbor Model\n",
    "\n",
    "This section of the project will implement a univariate model, which uses only 1 feature from the data set to make a prediction for the target column. The default K value of 5 will be used for this model."
   ]
  },
  {
   "cell_type": "code",
   "execution_count": 28,
   "metadata": {
    "collapsed": false
   },
   "outputs": [],
   "source": [
    "from sklearn.neighbors import KNeighborsRegressor\n",
    "from sklearn.metrics import mean_squared_error\n",
    "from math import sqrt\n",
    "\n",
    "# create a Univariate Model to predice price based on 1 feature\n",
    "def knn_train_test(feature, target_col, df):\n",
    "    df_length = len(df)\n",
    "    \n",
    "    # shuffle data\n",
    "    random_indexes = np.random.permutation(df.index)\n",
    "    df = df.reindex(random_indexes)\n",
    "    \n",
    "    # split data into test and train sets\n",
    "    eighty_pct = round(df_length * 0.8)\n",
    "    train_set = df[:eighty_pct]\n",
    "    test_set = df[eighty_pct:]\n",
    "    \n",
    "    # train KNN model\n",
    "    model = KNeighborsRegressor()\n",
    "    model.fit(train_set[[feature]], train_set[target_col])\n",
    "    predictions = model.predict(test_set[[feature]])\n",
    "    \n",
    "    # calculate RMSE\n",
    "    rmse = sqrt(mean_squared_error(test_set[target_col], predictions))\n",
    "    return rmse"
   ]
  },
  {
   "cell_type": "code",
   "execution_count": 29,
   "metadata": {
    "collapsed": false,
    "scrolled": true
   },
   "outputs": [
    {
     "name": "stdout",
     "output_type": "stream",
     "text": [
      "For symboling feature, RMSE is 7803.063812631549\n",
      "For num_doors feature, RMSE is 8527.66204155629\n",
      "For wheel_base feature, RMSE is 3201.4107602742884\n",
      "For length feature, RMSE is 5053.942838814068\n",
      "For width feature, RMSE is 5936.5376314818395\n",
      "For height feature, RMSE is 5949.288954656682\n",
      "For curb_weight feature, RMSE is 4640.702415044515\n",
      "For num_cylinders feature, RMSE is 4683.769553895666\n",
      "For engine_size feature, RMSE is 3482.4677422770196\n",
      "For compression_ratio feature, RMSE is 5917.7487594523645\n",
      "For horsepower feature, RMSE is 3240.962459517234\n",
      "For peak_rpm feature, RMSE is 9407.458950428643\n",
      "For city_mpg feature, RMSE is 4455.871434523217\n",
      "For highway_mpg feature, RMSE is 3919.5613112949254\n"
     ]
    }
   ],
   "source": [
    "# test univariate model with many features\n",
    "\n",
    "car_cols = ['symboling', 'num_doors', 'wheel_base', 'length', 'width', 'height',\n",
    "        'curb_weight', 'num_cylinders', 'engine_size', 'compression_ratio',\n",
    "        'horsepower', 'peak_rpm', 'city_mpg', 'highway_mpg']\n",
    "\n",
    "for col in car_cols:\n",
    "     ft_rmse = knn_train_test(col, 'price', cars)\n",
    "     print('For {} feature, RMSE is {}'.format(col, ft_rmse))"
   ]
  },
  {
   "cell_type": "markdown",
   "metadata": {},
   "source": [
    "## Modified K Value\n",
    "\n",
    "The code below modifies the knn_train_test function to accept a parameter for the K value, and will test the RMSE for several different values of K."
   ]
  },
  {
   "cell_type": "code",
   "execution_count": 30,
   "metadata": {
    "collapsed": true
   },
   "outputs": [],
   "source": [
    "# create a Univariate Model to predice price based on 1 feature, but with adjustable K value\n",
    "def knn_train_test_k(feature, target_col, df, k):\n",
    "    df_length = len(df)\n",
    "    \n",
    "    # shuffle data\n",
    "    random_indexes = np.random.permutation(df.index)\n",
    "    df = df.reindex(random_indexes)\n",
    "    \n",
    "    # split data into test and train sets\n",
    "    eighty_pct = round(df_length * 0.8)\n",
    "    train_set = df[:eighty_pct]\n",
    "    test_set = df[eighty_pct:]\n",
    "    \n",
    "    # train KNN model\n",
    "    model = KNeighborsRegressor(n_neighbors=k)\n",
    "    model.fit(train_set[[feature]], train_set[target_col])\n",
    "    predictions = model.predict(test_set[[feature]])\n",
    "    \n",
    "    # calculate RMSE\n",
    "    rmse = sqrt(mean_squared_error(test_set[target_col], predictions))\n",
    "    return rmse"
   ]
  },
  {
   "cell_type": "code",
   "execution_count": 31,
   "metadata": {
    "collapsed": true
   },
   "outputs": [],
   "source": [
    "# test using several different K values\n",
    "k_vals = [1, 3, 5, 7]\n",
    "rmses = {}\n",
    "\n",
    "for val in k_vals:\n",
    "    l_rmses = []\n",
    "    for col in car_cols:\n",
    "        ft_rmse = knn_train_test_k(col, 'price', cars, val)\n",
    "        l_rmses.append(ft_rmse)\n",
    "    \n",
    "    # compute average for K value\n",
    "    avg_rmse = np.mean(l_rmses)\n",
    "    rmses[val] = avg_rmse"
   ]
  },
  {
   "cell_type": "code",
   "execution_count": 32,
   "metadata": {
    "collapsed": false
   },
   "outputs": [
    {
     "name": "stdout",
     "output_type": "stream",
     "text": [
      "{1: 6436.2123585948475, 3: 5669.341740911658, 5: 5692.528492464089, 7: 5520.323921344529}\n"
     ]
    }
   ],
   "source": [
    "# verify the output\n",
    "print(rmses)"
   ]
  },
  {
   "cell_type": "code",
   "execution_count": 33,
   "metadata": {
    "collapsed": false
   },
   "outputs": [
    {
     "data": {
      "image/png": "[encoded data removed]",
      "text/plain": [
       "<matplotlib.figure.Figure at 0x7fcc147c8b70>"
      ]
     },
     "metadata": {},
     "output_type": "display_data"
    }
   ],
   "source": [
    "from matplotlib import pyplot as plt\n",
    "%matplotlib inline\n",
    "\n",
    "k_values = list(rmses.keys())\n",
    "rmse_values = list(rmses.values())\n",
    "\n",
    "# visualize the output\n",
    "plt.scatter(k_values, rmse_values)\n",
    "plt.show()"
   ]
  },
  {
   "cell_type": "markdown",
   "metadata": {},
   "source": [
    "## K Value Analysis\n",
    "\n",
    "As seen in the plot above, the average RMSE value across all numeric columns was the lowest when the K value was 3."
   ]
  },
  {
   "cell_type": "markdown",
   "metadata": {
    "collapsed": true
   },
   "source": [
    "## Multivariate K-Nearest Neighbor\n",
    "\n",
    "The code below is a modification of the previously defined function that will use multiple features of the data set instead of just 1 in order to make predictions."
   ]
  },
  {
   "cell_type": "code",
   "execution_count": 36,
   "metadata": {
    "collapsed": true
   },
   "outputs": [],
   "source": [
    "# create a Multivariate Model to predice price based on multiple columns, using default K value\n",
    "def knn_train_test_multiple(features, target_col, df):\n",
    "    df_length = len(df)\n",
    "    \n",
    "    # shuffle data\n",
    "    random_indexes = np.random.permutation(df.index)\n",
    "    df = df.reindex(random_indexes)\n",
    "    \n",
    "    # split data into test and train sets\n",
    "    eighty_pct = round(df_length * 0.8)\n",
    "    train_set = df[:eighty_pct]\n",
    "    test_set = df[eighty_pct:]\n",
    "    \n",
    "    # train KNN model\n",
    "    model = KNeighborsRegressor()\n",
    "    model.fit(train_set[features], train_set[target_col])\n",
    "    predictions = model.predict(test_set[features])\n",
    "    \n",
    "    # calculate RMSE\n",
    "    rmse = sqrt(mean_squared_error(test_set[target_col], predictions))\n",
    "    return rmse"
   ]
  },
  {
   "cell_type": "code",
   "execution_count": 37,
   "metadata": {
    "collapsed": false
   },
   "outputs": [
    {
     "name": "stdout",
     "output_type": "stream",
     "text": [
      "Two RMSE: 2930.11936565731\n",
      "Three RMSE: 3180.909680107249\n",
      "Four RMSE: 3540.7777693608505\n",
      "Five RMSE: 3188.1715954446368\n"
     ]
    }
   ],
   "source": [
    "# train the new multivariate model using the features with lowest RMSE values from previous steps\n",
    "best_two = ['highway_mpg', 'engine_size']\n",
    "best_three = ['highway_mpg', 'engine_size', 'horsepower']\n",
    "best_four = ['highway_mpg', 'engine_size', 'horsepower', 'curb_weight']\n",
    "best_five = ['highway_mpg', 'engine_size', 'horsepower', 'curb_weight', 'num_cylinders']\n",
    "\n",
    "# train each set of features\n",
    "two_rmse = knn_train_test_multiple(best_two, 'price', cars)\n",
    "three_rmse = knn_train_test_multiple(best_three, 'price', cars)\n",
    "four_rmse = knn_train_test_multiple(best_four, 'price', cars)\n",
    "five_rmse = knn_train_test_multiple(best_five, 'price', cars)\n",
    "\n",
    "print('Two RMSE: {}'.format(two_rmse))\n",
    "print('Three RMSE: {}'.format(three_rmse))\n",
    "print('Four RMSE: {}'.format(four_rmse))\n",
    "print('Five RMSE: {}'.format(five_rmse))"
   ]
  },
  {
   "cell_type": "markdown",
   "metadata": {},
   "source": [
    "## Hyperparameter Optimization\n",
    "\n",
    "Using the top 3 performing models from the previous step, modify the K value to see what number of neighbors produces the smallest RMSE, and ultimately, the most accurate predictions."
   ]
  },
  {
   "cell_type": "code",
   "execution_count": 38,
   "metadata": {
    "collapsed": true
   },
   "outputs": [],
   "source": [
    "# define multivariate model function that accepts K as a parameter\n",
    "def knn_train_test_multiple_k(features, target_col, df, k):\n",
    "    df_length = len(df)\n",
    "    \n",
    "    # shuffle data\n",
    "    random_indexes = np.random.permutation(df.index)\n",
    "    df = df.reindex(random_indexes)\n",
    "    \n",
    "    # split data into test and train sets\n",
    "    eighty_pct = round(df_length * 0.8)\n",
    "    train_set = df[:eighty_pct]\n",
    "    test_set = df[eighty_pct:]\n",
    "    \n",
    "    # train KNN model\n",
    "    model = KNeighborsRegressor(n_neighbors=k)\n",
    "    model.fit(train_set[features], train_set[target_col])\n",
    "    predictions = model.predict(test_set[features])\n",
    "    \n",
    "    # calculate RMSE\n",
    "    rmse = sqrt(mean_squared_error(test_set[target_col], predictions))\n",
    "    return rmse    "
   ]
  },
  {
   "cell_type": "code",
   "execution_count": 45,
   "metadata": {
    "collapsed": true
   },
   "outputs": [],
   "source": [
    "best_features = [best_two, best_three, best_five]\n",
    "\n",
    "k_dict = {}\n",
    "\n",
    "# train the models using 1 through 25 nearest neighbors\n",
    "for k in range(1, 26):\n",
    "    rmse_dict_temp = {}\n",
    "    for ftr in best_features:\n",
    "        if ftr == best_two:\n",
    "            indicator = 2\n",
    "        elif ftr == best_three:\n",
    "            indicator = 3\n",
    "        else:\n",
    "            indicator = 5\n",
    "        temp_rmses = knn_train_test_multiple_k(ftr, 'price', cars, k)\n",
    "        rmse_dict_temp[indicator] = temp_rmses\n",
    "    k_dict[k] = rmse_dict_temp"
   ]
  },
  {
   "cell_type": "code",
   "execution_count": 46,
   "metadata": {
    "collapsed": false
   },
   "outputs": [
    {
     "name": "stdout",
     "output_type": "stream",
     "text": [
      "{1: {2: 2671.8972192058586, 3: 3016.438006987712, 5: 3026.981437835389}, 2: {2: 2893.1068151297145, 3: 1698.2285844373248, 5: 3171.873877339703}, 3: {2: 2577.7528688331968, 3: 2981.751711103167, 5: 3642.564049997382}, 4: {2: 2837.2462628841367, 3: 3377.890186103598, 5: 2092.659044134997}, 5: {2: 3458.1800086172493, 3: 3272.846951814276, 5: 3769.55055835573}, 6: {2: 2490.1840006201237, 3: 2253.6713083260884, 5: 3123.5809920488523}, 7: {2: 3544.2938612648923, 3: 1965.0887950545587, 5: 3058.534925134141}, 8: {2: 3202.0191597817425, 3: 2554.8826125797837, 5: 2767.738935174568}, 9: {2: 4547.514230731302, 3: 4088.819705445812, 5: 3152.2090879666052}, 10: {2: 3066.0573111489616, 3: 3688.971665586495, 5: 3085.04008312696}, 11: {2: 5079.93395191169, 3: 4477.789841087946, 5: 3963.8723556466225}, 12: {2: 3820.3566740345436, 3: 3052.140448214171, 5: 4250.31019850398}, 13: {2: 5579.974249240703, 3: 3348.1093697451324, 5: 3324.531922963703}, 14: {2: 3845.895172940885, 3: 3954.1744287376414, 5: 2591.553675389238}, 15: {2: 2956.8782073140733, 3: 2816.092303746847, 5: 2539.6955294330505}, 16: {2: 4700.450341768295, 3: 3750.1424960556706, 5: 4791.843682441355}, 17: {2: 2843.907857537341, 3: 4981.347904457409, 5: 3764.4723293478473}, 18: {2: 2486.2800042569424, 3: 5086.563939661873, 5: 4260.7521071424135}, 19: {2: 6539.880606454211, 3: 5120.925343606587, 5: 4291.665967830224}, 20: {2: 4766.0540513418955, 3: 5076.134129796758, 5: 4250.903689533263}, 21: {2: 4065.6782336673614, 3: 3930.7748433056013, 5: 3630.359951278983}, 22: {2: 3979.8158557801917, 3: 5546.560180811121, 5: 3277.888829279872}, 23: {2: 4463.556952286412, 3: 4621.182947556027, 5: 4546.0591721970795}, 24: {2: 3302.939010104559, 3: 4502.371757993649, 5: 5052.758113171163}, 25: {2: 3550.5218895030066, 3: 3642.190448919441, 5: 4280.332928013895}}\n"
     ]
    }
   ],
   "source": [
    "# verify the results\n",
    "print(k_dict)"
   ]
  },
  {
   "cell_type": "code",
   "execution_count": 66,
   "metadata": {
    "collapsed": false
   },
   "outputs": [
    {
     "data": {
      "image/png": "[encoded data removed]",
      "text/plain": [
       "<matplotlib.figure.Figure at 0x7fcc0eb3ecf8>"
      ]
     },
     "metadata": {},
     "output_type": "display_data"
    }
   ],
   "source": [
    "from matplotlib.font_manager import FontProperties\n",
    "\n",
    "for i, m in k_dict.items():\n",
    "    best_num = list(m.keys())\n",
    "    rmse_values = list(m.values())\n",
    "    plt.scatter(best_num, rmse_values)\n",
    "\n",
    "neighbor_list = [i for i in range(1, 26)]\n",
    "plt.xlabel('Number Features')\n",
    "plt.ylabel('RMSE Values')\n",
    "plt.show()"
   ]
  },
  {
   "cell_type": "code",
   "execution_count": 88,
   "metadata": {
    "collapsed": false
   },
   "outputs": [
    {
     "name": "stdout",
     "output_type": "stream",
     "text": [
      "1 3016.438006987712\n",
      "2 1698.2285844373248\n",
      "3 2981.751711103167\n",
      "4 3377.890186103598\n",
      "5 3272.846951814276\n",
      "6 2253.6713083260884\n",
      "7 1965.0887950545587\n",
      "8 2554.8826125797837\n",
      "9 4088.819705445812\n",
      "10 3688.971665586495\n",
      "11 4477.789841087946\n",
      "12 3052.140448214171\n",
      "13 3348.1093697451324\n",
      "14 3954.1744287376414\n",
      "15 2816.092303746847\n",
      "16 3750.1424960556706\n",
      "17 4981.347904457409\n",
      "18 5086.563939661873\n",
      "19 5120.925343606587\n",
      "20 5076.134129796758\n",
      "21 3930.7748433056013\n",
      "22 5546.560180811121\n",
      "23 4621.182947556027\n",
      "24 4502.371757993649\n",
      "25 3642.190448919441\n"
     ]
    }
   ],
   "source": [
    "# find K value that corresponds with lowest RMSE for 3 features\n",
    "three_features_rmses = []\n",
    "\n",
    "for i, m in k_dict.items():\n",
    "    # print RMSE values for 3 features\n",
    "    three_features_rmses.append(m[3])\n",
    "\n",
    "# iterator for K values in outer dictionary\n",
    "k = 1\n",
    "for r in three_features_rmses:\n",
    "    # print K value that corresponds with RMSE\n",
    "    print(k, r)\n",
    "    k += 1"
   ]
  },
  {
   "cell_type": "markdown",
   "metadata": {},
   "source": [
    "## K Value Conclusion\n",
    "\n",
    "As shown in the scatterplot, the RMSE value is lowest when using 3 features to make predictions. Of the RMSE values for 3 features, the RMSE is lowest when K = 2."
   ]
  }
 ],
 "metadata": {
  "kernelspec": {
   "display_name": "Python 3",
   "language": "python",
   "name": "python3"
  },
  "language_info": {
   "codemirror_mode": {
    "name": "ipython",
    "version": 3
   },
   "file_extension": ".py",
   "mimetype": "text/x-python",
   "name": "python",
   "nbconvert_exporter": "python",
   "pygments_lexer": "ipython3",
   "version": "3.4.3"
  }
 },
 "nbformat": 4,
 "nbformat_minor": 2
}
