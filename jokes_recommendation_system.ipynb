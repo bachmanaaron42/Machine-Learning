{
 "cells": [
  {
   "cell_type": "markdown",
   "metadata": {
    "id": "Yd7pakiY3uzT"
   },
   "source": [
    "# Jokes Recommendation System\n",
    "\n",
    "This analysis contains a jokes recommendation system, which recommends jokes to users based on similar activity to other users. The joke.csv data set contains user ratings for different jokes. The data was gathered from http://eigentaste.berkeley.edu/.\n",
    "\n",
    "User ratings for each joke range from -10 to 10.\n",
    "\n",
    "Each joke is saved as an HTML file that can be opened in a web browser."
   ]
  },
  {
   "cell_type": "code",
   "execution_count": 1,
   "metadata": {
    "colab": {
     "base_uri": "https://localhost:8080/"
    },
    "id": "MTq8IQP1_muD",
    "outputId": "f02e7736-b696-44cc-8fe1-667d53dce5e1",
    "scrolled": true
   },
   "outputs": [
    {
     "name": "stdout",
     "output_type": "stream",
     "text": [
      "Open the file init76.html using a web browser. Then type the joke ID and text below.\n"
     ]
    }
   ],
   "source": [
    "import random\n",
    "\n",
    "# open a random joke\n",
    "print(f'Open the file init{random.randint(1,100)}.html using a web browser. Then type the joke ID and text below.')"
   ]
  },
  {
   "cell_type": "markdown",
   "metadata": {
    "id": "o9stW3-W_nNe"
   },
   "source": [
    "**Generated Joke ID:** 76\n",
    "\n",
    "**Generated Joke text:** There once was a man and a woman that both got in a terrible car wreck. Both of their vehicles were completely destroyed, buy fortunately, no one was hurt. In thankfulness, the woman said to the man, 'We are both okay, so we should celebrate. I have a bottle of wine in my car, let's open it.' So the woman got the bottleout of the car, and handed it to the man. The man took a really big drink, and handed the woman the bottle. The woman closed the bottle and put it down. The man asked, 'Aren't you going to take a drink?'\n",
    "The woman cleverly replied, 'No, I think I'll just wait for the cops to get here.'"
   ]
  },
  {
   "cell_type": "code",
   "execution_count": 6,
   "metadata": {
    "colab": {
     "base_uri": "https://localhost:8080/"
    },
    "id": "BBDPHC2c3s0l",
    "outputId": "4dc7e5a3-edc3-4316-e2aa-5a1ded346e7b"
   },
   "outputs": [
    {
     "name": "stdout",
     "output_type": "stream",
     "text": [
      "    User  Joke0  Joke1  Joke2  Joke3\n",
      "0  User0  -7.82   8.79  -9.66  -8.16\n",
      "1  User1   4.08  -0.29   6.36   4.37\n",
      "2  User2    NaN    NaN    NaN    NaN\n",
      "3  User3    NaN   8.35    NaN    NaN\n",
      "4  User4   8.50   4.61  -4.17  -5.39\n",
      "\n",
      "The data set contains  24983  rows\n",
      "The data set contains  101  columns\n"
     ]
    }
   ],
   "source": [
    "import pandas as pd\n",
    "\n",
    "# read data\n",
    "dat = pd.read_csv('joke.csv')\n",
    "\n",
    "# verify the first 5 rows and columns of the data set\n",
    "print(dat.iloc[0:5, 0:5])\n",
    "\n",
    "# verify number of rows and columns\n",
    "print('\\nThe data set contains ', dat.shape[0], ' rows')\n",
    "print('The data set contains ', dat.shape[1], ' columns')"
   ]
  },
  {
   "cell_type": "markdown",
   "metadata": {
    "id": "MqT1SGgiCmOw"
   },
   "source": [
    "## Initial Analysis\n",
    "\n",
    "As shown from the output above, there are many missing values in the data set. Each NULL value represents a joke that the respective user has not yet rated.\n",
    "\n",
    "The goal of this analysis is to impute the missing values using SoftImpute in Python. Therefore, imputed scores will give an idea to what rating the user might provide, based on similar activity of other users."
   ]
  },
  {
   "cell_type": "code",
   "execution_count": 14,
   "metadata": {
    "colab": {
     "base_uri": "https://localhost:8080/"
    },
    "id": "mTkhGyRcD9rq",
    "outputId": "93635668-badd-4cb7-e223-49ca801c0770"
   },
   "outputs": [
    {
     "name": "stdout",
     "output_type": "stream",
     "text": [
      "   Joke0  Joke1  Joke2  Joke3  Joke4\n",
      "0  -7.82   8.79  -9.66  -8.16  -7.52\n",
      "1   4.08  -0.29   6.36   4.37  -2.38\n",
      "2    NaN    NaN    NaN    NaN   9.03\n",
      "3    NaN   8.35    NaN    NaN   1.80\n",
      "4   8.50   4.61  -4.17  -5.39   1.36\n",
      "\n",
      "    joke 0  joke 1  joke 2  joke 3  ...  joke 6  joke 7  joke 8  joke 9\n",
      "0   -7.82    8.79   -9.66   -8.16  ...   -9.85    4.17   -8.98   -4.76\n",
      "1    4.08   -0.29    6.36    4.37  ...   -0.73   -5.34    8.88    9.22\n",
      "2     NaN     NaN     NaN     NaN  ...    9.03    9.27     NaN     NaN\n",
      "3     NaN    8.35     NaN     NaN  ...   -2.82    6.21     NaN    1.84\n",
      "4    8.50    4.61   -4.17   -5.39  ...    7.04    4.61   -0.44    5.73\n",
      "\n",
      "[5 rows x 10 columns]\n"
     ]
    }
   ],
   "source": [
    "# separate User column from the jokes data set\n",
    "df = dat.iloc[:, 1:]\n",
    "\n",
    "# verify the data set\n",
    "print(df.iloc[0:5, 0:5])\n",
    "\n",
    "# rename columns\n",
    "cols = ['joke ' + str(num) for num in range(df.shape[1])]\n",
    "df.columns = cols\n",
    "\n",
    "# verify new column names\n",
    "print('\\n', df.iloc[0:5, 0:10])"
   ]
  },
  {
   "cell_type": "code",
   "execution_count": 17,
   "metadata": {
    "colab": {
     "base_uri": "https://localhost:8080/"
    },
    "id": "sCHhEN6ACebk",
    "outputId": "3b4895b9-a210-4cfc-e4e3-1514cd4cf03b"
   },
   "outputs": [
    {
     "name": "stdout",
     "output_type": "stream",
     "text": [
      "Total number of entries is:  2498300\n",
      "Number of missing entries is:  687845\n",
      "The missing rate is:  27.53 %\n"
     ]
    }
   ],
   "source": [
    "# save number of rows and columns\n",
    "m = df.shape[0]\n",
    "n = df.shape[1]\n",
    "\n",
    "# display total number of entries in the data set\n",
    "print('Total number of entries is: ', m * n)\n",
    "\n",
    "# display number of missing entries\n",
    "print('Number of missing entries is: ', df.isna().sum().sum())\n",
    "\n",
    "# display the missing rate\n",
    "print('The missing rate is: ', round((df.isna().sum().sum() / (m * n)) * 100, 2), '%')"
   ]
  },
  {
   "cell_type": "markdown",
   "metadata": {
    "id": "GEFCN_-OM1C1"
   },
   "source": [
    "## Recommendation Design\n",
    "\n",
    "In order to create a recommendation system, the first step is to obtain a list of unrated jokes from each user. Then, the imputed values can be populated for the unrated jokes, sorted, then presented to the user."
   ]
  },
  {
   "cell_type": "code",
   "execution_count": 19,
   "metadata": {
    "colab": {
     "base_uri": "https://localhost:8080/"
    },
    "id": "6k91PJ71OZ7b",
    "outputId": "1b5582b4-dba6-4e46-c19a-3a49428f0cea"
   },
   "outputs": [
    {
     "name": "stdout",
     "output_type": "stream",
     "text": [
      "NULL user indexes:  [    0     0     0 ... 24982 24982 24982]\n",
      "NULL joke indexes:  [70 71 72 ... 97 98 99]\n"
     ]
    }
   ],
   "source": [
    "import numpy as np\n",
    "\n",
    "# get the indexes of missing entries\n",
    "na_user = np.where(df.isna())[0]\n",
    "na_joke = np.where(df.isna())[1]\n",
    "\n",
    "# print indexes\n",
    "print('NULL user indexes: ', na_user)\n",
    "print('NULL joke indexes: ', na_joke)"
   ]
  },
  {
   "cell_type": "code",
   "execution_count": 21,
   "metadata": {
    "colab": {
     "base_uri": "https://localhost:8080/"
    },
    "id": "k17hl2g7PTkd",
    "outputId": "24fd4d10-129a-438b-ed60-d9ed3604708d"
   },
   "outputs": [
    {
     "name": "stdout",
     "output_type": "stream",
     "text": [
      "[ 0  3  8 23 29 32 36 42 43 54 56 57 58 59 62 63 66 69 70 71 73 74 75 76\n",
      " 77 78 79 80 81 83 84 85 86 87 88 89 90 91 93 94 95 96 97 98 99]\n"
     ]
    }
   ],
   "source": [
    "# initialize a list for unrated jokes per user\n",
    "unrated = [None] * m\n",
    "\n",
    "# populate list\n",
    "for user in range(m):\n",
    "  null_index = np.where(na_user == user)\n",
    "  unrated[user] = na_joke[null_index]\n",
    "\n",
    "# test with one user\n",
    "print(unrated[9999])"
   ]
  },
  {
   "cell_type": "markdown",
   "metadata": {
    "id": "S3uWMAduVYfS"
   },
   "source": [
    "## SoftImpute\n",
    "\n",
    "The SoftImpute method was selected for imputation due to better performance relative to other imputation methods (KNN, MissForest, etc.)"
   ]
  },
  {
   "cell_type": "code",
   "execution_count": 24,
   "metadata": {
    "colab": {
     "base_uri": "https://localhost:8080/"
    },
    "id": "TwIo5SeeSuyD",
    "outputId": "e97ded3c-b75b-4e00-ea51-5fe464b293ee"
   },
   "outputs": [
    {
     "name": "stdout",
     "output_type": "stream",
     "text": [
      "[SoftImpute] Max Singular Value of X_init = 3567.445922\n",
      "[SoftImpute] Iter 1: observed MAE=0.415889 rank=100\n",
      "[SoftImpute] Iter 2: observed MAE=0.416288 rank=100\n",
      "[SoftImpute] Iter 3: observed MAE=0.416598 rank=100\n",
      "[SoftImpute] Iter 4: observed MAE=0.416836 rank=100\n",
      "[SoftImpute] Iter 5: observed MAE=0.417016 rank=100\n",
      "[SoftImpute] Iter 6: observed MAE=0.417150 rank=100\n",
      "[SoftImpute] Iter 7: observed MAE=0.417248 rank=100\n",
      "[SoftImpute] Iter 8: observed MAE=0.417316 rank=100\n",
      "[SoftImpute] Iter 9: observed MAE=0.417361 rank=100\n",
      "[SoftImpute] Iter 10: observed MAE=0.417389 rank=100\n",
      "[SoftImpute] Iter 11: observed MAE=0.417403 rank=100\n",
      "[SoftImpute] Iter 12: observed MAE=0.417405 rank=100\n",
      "[SoftImpute] Iter 13: observed MAE=0.417399 rank=100\n",
      "[SoftImpute] Iter 14: observed MAE=0.417387 rank=100\n",
      "[SoftImpute] Iter 15: observed MAE=0.417369 rank=100\n",
      "[SoftImpute] Iter 16: observed MAE=0.417348 rank=100\n",
      "[SoftImpute] Iter 17: observed MAE=0.417324 rank=100\n",
      "[SoftImpute] Iter 18: observed MAE=0.417298 rank=100\n",
      "[SoftImpute] Iter 19: observed MAE=0.417270 rank=100\n",
      "[SoftImpute] Iter 20: observed MAE=0.417242 rank=100\n",
      "[SoftImpute] Iter 21: observed MAE=0.417213 rank=100\n",
      "[SoftImpute] Iter 22: observed MAE=0.417184 rank=100\n",
      "[SoftImpute] Iter 23: observed MAE=0.417155 rank=100\n",
      "[SoftImpute] Iter 24: observed MAE=0.417127 rank=100\n",
      "[SoftImpute] Iter 25: observed MAE=0.417098 rank=100\n",
      "[SoftImpute] Iter 26: observed MAE=0.417071 rank=100\n",
      "[SoftImpute] Iter 27: observed MAE=0.417043 rank=100\n",
      "[SoftImpute] Iter 28: observed MAE=0.417017 rank=100\n",
      "[SoftImpute] Iter 29: observed MAE=0.416991 rank=100\n",
      "[SoftImpute] Iter 30: observed MAE=0.416966 rank=100\n",
      "[SoftImpute] Iter 31: observed MAE=0.416942 rank=100\n",
      "[SoftImpute] Iter 32: observed MAE=0.416918 rank=100\n",
      "[SoftImpute] Iter 33: observed MAE=0.416896 rank=100\n",
      "[SoftImpute] Iter 34: observed MAE=0.416874 rank=100\n",
      "[SoftImpute] Iter 35: observed MAE=0.416853 rank=100\n",
      "[SoftImpute] Iter 36: observed MAE=0.416832 rank=100\n",
      "[SoftImpute] Iter 37: observed MAE=0.416813 rank=100\n",
      "[SoftImpute] Iter 38: observed MAE=0.416794 rank=100\n",
      "[SoftImpute] Iter 39: observed MAE=0.416776 rank=100\n",
      "[SoftImpute] Iter 40: observed MAE=0.416758 rank=100\n",
      "[SoftImpute] Iter 41: observed MAE=0.416741 rank=100\n",
      "[SoftImpute] Iter 42: observed MAE=0.416725 rank=100\n",
      "[SoftImpute] Iter 43: observed MAE=0.416710 rank=100\n",
      "[SoftImpute] Iter 44: observed MAE=0.416695 rank=100\n",
      "[SoftImpute] Iter 45: observed MAE=0.416680 rank=100\n",
      "[SoftImpute] Iter 46: observed MAE=0.416666 rank=100\n",
      "[SoftImpute] Iter 47: observed MAE=0.416653 rank=100\n",
      "[SoftImpute] Iter 48: observed MAE=0.416640 rank=100\n",
      "[SoftImpute] Iter 49: observed MAE=0.416628 rank=100\n",
      "[SoftImpute] Iter 50: observed MAE=0.416617 rank=100\n",
      "[SoftImpute] Iter 51: observed MAE=0.416605 rank=100\n",
      "[SoftImpute] Iter 52: observed MAE=0.416595 rank=100\n",
      "[SoftImpute] Iter 53: observed MAE=0.416584 rank=100\n",
      "[SoftImpute] Iter 54: observed MAE=0.416574 rank=100\n",
      "[SoftImpute] Iter 55: observed MAE=0.416565 rank=100\n",
      "[SoftImpute] Iter 56: observed MAE=0.416555 rank=100\n",
      "[SoftImpute] Iter 57: observed MAE=0.416547 rank=100\n",
      "[SoftImpute] Iter 58: observed MAE=0.416538 rank=100\n",
      "[SoftImpute] Iter 59: observed MAE=0.416530 rank=100\n",
      "[SoftImpute] Iter 60: observed MAE=0.416522 rank=100\n",
      "[SoftImpute] Iter 61: observed MAE=0.416515 rank=100\n",
      "[SoftImpute] Iter 62: observed MAE=0.416508 rank=100\n",
      "[SoftImpute] Iter 63: observed MAE=0.416501 rank=100\n",
      "[SoftImpute] Iter 64: observed MAE=0.416494 rank=100\n",
      "[SoftImpute] Iter 65: observed MAE=0.416488 rank=100\n",
      "[SoftImpute] Iter 66: observed MAE=0.416482 rank=100\n",
      "[SoftImpute] Iter 67: observed MAE=0.416476 rank=100\n",
      "[SoftImpute] Iter 68: observed MAE=0.416470 rank=100\n",
      "[SoftImpute] Iter 69: observed MAE=0.416465 rank=100\n",
      "[SoftImpute] Iter 70: observed MAE=0.416460 rank=100\n",
      "[SoftImpute] Iter 71: observed MAE=0.416455 rank=100\n",
      "[SoftImpute] Iter 72: observed MAE=0.416450 rank=100\n",
      "[SoftImpute] Iter 73: observed MAE=0.416446 rank=100\n",
      "[SoftImpute] Iter 74: observed MAE=0.416441 rank=100\n",
      "[SoftImpute] Iter 75: observed MAE=0.416437 rank=100\n",
      "[SoftImpute] Iter 76: observed MAE=0.416433 rank=100\n",
      "[SoftImpute] Iter 77: observed MAE=0.416429 rank=100\n",
      "[SoftImpute] Iter 78: observed MAE=0.416426 rank=100\n",
      "[SoftImpute] Iter 79: observed MAE=0.416422 rank=100\n",
      "[SoftImpute] Iter 80: observed MAE=0.416419 rank=100\n",
      "[SoftImpute] Iter 81: observed MAE=0.416415 rank=100\n",
      "[SoftImpute] Iter 82: observed MAE=0.416412 rank=100\n",
      "[SoftImpute] Iter 83: observed MAE=0.416409 rank=100\n",
      "[SoftImpute] Iter 84: observed MAE=0.416406 rank=100\n",
      "[SoftImpute] Iter 85: observed MAE=0.416403 rank=100\n",
      "[SoftImpute] Iter 86: observed MAE=0.416401 rank=100\n",
      "[SoftImpute] Iter 87: observed MAE=0.416398 rank=100\n",
      "[SoftImpute] Iter 88: observed MAE=0.416396 rank=100\n",
      "[SoftImpute] Iter 89: observed MAE=0.416393 rank=100\n",
      "[SoftImpute] Stopped after iteration 89 for lambda=71.348918\n"
     ]
    }
   ],
   "source": [
    "from fancyimpute import SoftImpute\n",
    "\n",
    "# leverage SoftImpute to impute missing ratings\n",
    "imputer = SoftImpute()\n",
    "imputed = imputer.fit_transform(df)\n",
    "\n",
    "# convert imputations to a data frame\n",
    "df_imputed = pd.DataFrame(imputed)"
   ]
  },
  {
   "cell_type": "code",
   "execution_count": 25,
   "metadata": {
    "id": "9tWBAhCoW_aT"
   },
   "outputs": [],
   "source": [
    "# create a list of dataframes, where each df is a jokes recommendation dataframe for each user\n",
    "joke_recommender = [pd.DataFrame() for i in range(m)]"
   ]
  },
  {
   "cell_type": "code",
   "execution_count": 28,
   "metadata": {
    "id": "7yf2hnzeYH10"
   },
   "outputs": [],
   "source": [
    "# populate movie recommendations per user\n",
    "for usr in range(m):\n",
    "\n",
    "  # initialize dataframe\n",
    "  rec_df = pd.DataFrame()\n",
    "  \n",
    "  # get unrated jokes for the user\n",
    "  unrated_jokes = unrated[usr]\n",
    "  \n",
    "  # initialize lists for the recommendations\n",
    "  joke_labels = []\n",
    "  joke_imputed_scores = []\n",
    "\n",
    "  # get unrated joke imputed scores and labels\n",
    "  for unr_joke in unrated_jokes:\n",
    "    rec_joke_score = df_imputed.iloc[usr, unr_joke]\n",
    "    rec_joke_name = 'joke ' + str(unr_joke)\n",
    "\n",
    "    # append labels to lists\n",
    "    joke_imputed_scores.append(rec_joke_score)\n",
    "    joke_labels.append(rec_joke_name)\n",
    "\n",
    "  # insert lists into dataframe as columns\n",
    "  rec_df['recommended_joke'] = joke_labels\n",
    "  rec_df['imputed_score'] = joke_imputed_scores\n",
    "  \n",
    "  # sort dataframe by imputed score\n",
    "  rec_df = rec_df.sort_values(by='imputed_score', ascending=False)\n",
    "\n",
    "  # set the user index in the master list to the recommended dataframe for the user\n",
    "  joke_recommender[usr] = rec_df"
   ]
  },
  {
   "cell_type": "markdown",
   "metadata": {
    "id": "3s75Jy71O-QT"
   },
   "source": [
    "## Output Analysis\n",
    "\n",
    "The output of the recommendation system is a sorted list of recommended jokes for each user. Each recommended joke has not been rated by the user, and jokes which are at the top of each user list have higher imputed ratings, meaning the user may enjoy jokes at the top of the list moreso than the bottom of the list."
   ]
  },
  {
   "cell_type": "code",
   "execution_count": 29,
   "metadata": {
    "colab": {
     "base_uri": "https://localhost:8080/"
    },
    "id": "QPqKzr1UbS92",
    "outputId": "721c5f57-f30e-4bf7-c5c6-f49c6afd62fd"
   },
   "outputs": [
    {
     "name": "stdout",
     "output_type": "stream",
     "text": [
      "   recommended_joke  imputed_score\n",
      "42          joke 97       4.073630\n",
      "19          joke 71       3.621257\n",
      "22          joke 75       3.098355\n",
      "26          joke 79       2.956815\n",
      "44          joke 99       2.881525\n",
      "24          joke 77       2.603944\n",
      "1            joke 3       2.480557\n",
      "25          joke 78       2.243834\n",
      "27          joke 80       2.162497\n",
      "30          joke 84       2.119794\n",
      "5           joke 32       1.911207\n",
      "23          joke 76       1.842801\n",
      "34          joke 88       1.771972\n",
      "37          joke 91       1.740824\n",
      "32          joke 86       1.713594\n",
      "18          joke 70       1.640814\n",
      "21          joke 74       1.532897\n",
      "20          joke 73       1.463982\n",
      "14          joke 62       1.343466\n",
      "17          joke 69       1.127577\n",
      "41          joke 96       1.064115\n",
      "35          joke 89       1.008989\n",
      "43          joke 98       0.983060\n",
      "36          joke 90       0.919978\n",
      "0            joke 0       0.795669\n",
      "29          joke 83       0.780956\n",
      "28          joke 81       0.735476\n",
      "39          joke 94       0.667489\n",
      "12          joke 58       0.665735\n",
      "40          joke 95       0.566428\n",
      "4           joke 29       0.538902\n",
      "7           joke 42       0.358621\n",
      "33          joke 87       0.201899\n",
      "6           joke 36       0.138003\n",
      "15          joke 63       0.033525\n",
      "16          joke 66      -0.288175\n",
      "9           joke 54      -0.656886\n",
      "2            joke 8      -0.696444\n",
      "38          joke 93      -0.771038\n",
      "31          joke 85      -1.117679\n",
      "13          joke 59      -1.226076\n",
      "3           joke 23      -1.410683\n",
      "11          joke 57      -1.415443\n",
      "10          joke 56      -1.891253\n",
      "8           joke 43      -2.569376\n"
     ]
    }
   ],
   "source": [
    "# verify the recommended jokes for a user\n",
    "print(joke_recommender[9999])"
   ]
  },
  {
   "cell_type": "code",
   "execution_count": 32,
   "metadata": {
    "colab": {
     "base_uri": "https://localhost:8080/"
    },
    "id": "NJ37eUltymjg",
    "outputId": "407d3ee0-6ce7-4ea9-dcbb-c6cbe5e8f217"
   },
   "outputs": [
    {
     "name": "stdout",
     "output_type": "stream",
     "text": [
      "/content/init97.html\n"
     ]
    }
   ],
   "source": [
    "# get the highest rated joke for a user\n",
    "bestjoke_num = joke_recommender[9999].iloc[0,0][5:]\n",
    "\n",
    "# get the corresponding filename for the HTML file containing the joke\n",
    "bestjoke_file = '/content/init'+bestjoke_num+'.html'\n",
    "print(bestjoke_file)"
   ]
  },
  {
   "cell_type": "markdown",
   "metadata": {},
   "source": [
    "## Test Recommendations\n",
    "\n",
    "The jokes below contain the HTML output of the highest recommended jokes for 2 users in the data set."
   ]
  },
  {
   "cell_type": "code",
   "execution_count": 33,
   "metadata": {
    "colab": {
     "base_uri": "https://localhost:8080/",
     "height": 160
    },
    "id": "Kq2-xwdYJ6tX",
    "outputId": "1cec6601-6c3d-4927-8ced-6da7e4ec12ba"
   },
   "outputs": [
    {
     "data": {
      "text/html": [
       "<HTML>\n",
       "<HEAD>\n",
       "    <TITLE> A Joke </TITLE>\n",
       "</HEAD>\n",
       "\n",
       "<BODY TEXT=\"black\" BGCOLOR=#fddf84>\n",
       "<center>\n",
       "<TABLE WIDTH=\"70% CELLSPACING=\"0\" CELLPADDING=\"0\">\n",
       "<TR>\n",
       "<TD>\n",
       "<BR>\n",
       "<Font Size=\"+1\"> <BR> \n",
       "<!--begin of joke -->\n",
       "A teacher is explaining to her class how different languages use \n",
       "negatives differently.  She says, \"In all languages, a positive followed\n",
       "by a negative or a negative followed by a positive makes a negative.  In\n",
       "some languages, two negatives together make a positive, while in others they\n",
       "make a negative.  But in no language do two positives make a negative.\"  \n",
       "<p>\n",
       "One of the students puts up his hand and says, <i>\"Yeah, right.\"</i>\n",
       "<!--end of joke -->\n",
       "</Font>\n",
       "</TD></TR>\n",
       "</TABLE></CENTER>\n",
       "</BODY>\n",
       "</HTML>\n",
       "\n"
      ],
      "text/plain": [
       "<IPython.core.display.HTML object>"
      ]
     },
     "execution_count": 33,
     "metadata": {
      "tags": []
     },
     "output_type": "execute_result"
    }
   ],
   "source": [
    "import IPython\n",
    "\n",
    "# display the highest recommended joke for the user\n",
    "IPython.display.HTML(filename=bestjoke_file)"
   ]
  },
  {
   "cell_type": "code",
   "execution_count": 36,
   "metadata": {
    "colab": {
     "base_uri": "https://localhost:8080/",
     "height": 194
    },
    "id": "d465xbm9dV-D",
    "outputId": "81e45bb7-33e8-4d5f-d417-97df273f6d54"
   },
   "outputs": [
    {
     "data": {
      "text/html": [
       "<HTML>\n",
       "<HEAD>\n",
       "    <TITLE> A Joke </TITLE>\n",
       "</HEAD>\n",
       "\n",
       "<BODY TEXT=\"black\" BGCOLOR=#fddf84>\n",
       "<center>\n",
       "<TABLE WIDTH=\"70% CELLSPACING=\"0\" CELLPADDING=\"0\">\n",
       "<TR>\n",
       "<TD>\n",
       "<BR>\n",
       "<Font Size=\"+1\"> <BR> \n",
       "<!--begin of joke -->\n",
       "A Czechoslovakian man felt his eyesight was growing steadily worse, and \n",
       "felt it was time to go see an optometrist. \n",
       "<p>\n",
       "The doctor started with some simple testing, and showed him a standard eye \n",
       "chart with letters of\n",
       "diminishing size: CRKBNWXSKZY. . . \n",
       "<p>\n",
       "\"Can you read this?\" the doctor asked. \n",
       "<p>\n",
       "\"Read it?\" the Czech answered. <i>\"Doc, I know him!\"</i>\n",
       "<!--end of joke -->\n",
       "\n",
       "\n",
       "</Font>\n",
       "</TD></TR>\n",
       "</TABLE></CENTER>\n",
       "</BODY>\n",
       "</HTML>\n",
       "\n"
      ],
      "text/plain": [
       "<IPython.core.display.HTML object>"
      ]
     },
     "execution_count": 36,
     "metadata": {
      "tags": []
     },
     "output_type": "execute_result"
    }
   ],
   "source": [
    "# get and print the highest rated joke for another user\n",
    "best_joke_second_usr = joke_recommender[100].iloc[0, 0][5:]\n",
    "\n",
    "best_joke_file_second_usr = '/content/init' + best_joke_second_usr + '.html'\n",
    "IPython.display.HTML(filename=best_joke_file_second_usr)"
   ]
  }
 ],
 "metadata": {
  "colab": {
   "collapsed_sections": [],
   "name": "Homework 4 Aaron Bachman.ipynb",
   "provenance": []
  },
  "kernelspec": {
   "display_name": "Python 3",
   "language": "python",
   "name": "python3"
  },
  "language_info": {
   "codemirror_mode": {
    "name": "ipython",
    "version": 3
   },
   "file_extension": ".py",
   "mimetype": "text/x-python",
   "name": "python",
   "nbconvert_exporter": "python",
   "pygments_lexer": "ipython3",
   "version": "3.8.5"
  }
 },
 "nbformat": 4,
 "nbformat_minor": 1
}
